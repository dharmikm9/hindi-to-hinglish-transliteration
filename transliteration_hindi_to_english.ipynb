{
  "nbformat": 4,
  "nbformat_minor": 0,
  "metadata": {
    "colab": {
      "name": "transliteration hindi to english.ipynb",
      "provenance": [],
      "collapsed_sections": [],
      "include_colab_link": true
    },
    "kernelspec": {
      "display_name": "Python 3",
      "name": "python3"
    }
  },
  "cells": [
    {
      "cell_type": "markdown",
      "metadata": {
        "id": "view-in-github",
        "colab_type": "text"
      },
      "source": [
        "<a href=\"https://colab.research.google.com/github/dharmikmehta98/hindi-to-hinglish-transliteration/blob/master/transliteration_hindi_to_english.ipynb\" target=\"_parent\"><img src=\"https://colab.research.google.com/assets/colab-badge.svg\" alt=\"Open In Colab\"/></a>"
      ]
    },
    {
      "cell_type": "markdown",
      "metadata": {
        "id": "ZXxa7ZP9uNmg",
        "colab_type": "text"
      },
      "source": [
        "**Using indic-transliteration Library**\n",
        "---------------------------------------------"
      ]
    },
    {
      "cell_type": "code",
      "metadata": {
        "id": "oGkntRJhL7x8",
        "colab_type": "code",
        "colab": {}
      },
      "source": [
        "!pip install indic-transliteration"
      ],
      "execution_count": 0,
      "outputs": []
    },
    {
      "cell_type": "code",
      "metadata": {
        "id": "FoVt-BH4L-vG",
        "colab_type": "code",
        "colab": {}
      },
      "source": [
        "from indic_transliteration import xsanscript\n",
        "from indic_transliteration.xsanscript import  transliterate"
      ],
      "execution_count": 0,
      "outputs": []
    },
    {
      "cell_type": "code",
      "metadata": {
        "id": "gIkSWj9vNA2e",
        "colab_type": "code",
        "colab": {}
      },
      "source": [
        "data = \"जरा नजरों से देख लिया होता, अगर तमन्ना थी डराने की... हम यूं ही बेहोश हो जाते, क्या जरूरत थी मुस्कुराने की!!\""
      ],
      "execution_count": 0,
      "outputs": []
    },
    {
      "cell_type": "code",
      "metadata": {
        "id": "zvERULjoNMqj",
        "colab_type": "code",
        "colab": {}
      },
      "source": [
        "transliteratedText = transliterate(data, xsanscript.DEVANAGARI, xsanscript.HK)\n",
        "transliteratedText = transliteratedText.lower()"
      ],
      "execution_count": 0,
      "outputs": []
    },
    {
      "cell_type": "code",
      "metadata": {
        "id": "9iA6DsDjsvLf",
        "colab_type": "code",
        "colab": {
          "base_uri": "https://localhost:8080/",
          "height": 34
        },
        "outputId": "cad396a4-99f7-4d75-8eba-24ec1a81e575"
      },
      "source": [
        "transliteratedText"
      ],
      "execution_count": 33,
      "outputs": [
        {
          "output_type": "execute_result",
          "data": {
            "text/plain": [
              "'jara najarom se dekha liya hota, agara tamanna thi darane ki... hama yum hi behoza ho jate, kya jarurata thi muskurane ki!!'"
            ]
          },
          "metadata": {
            "tags": []
          },
          "execution_count": 33
        }
      ]
    },
    {
      "cell_type": "markdown",
      "metadata": {
        "id": "q56AKQ7MuIXM",
        "colab_type": "text"
      },
      "source": [
        "**Using Pyglot Library**\n",
        "-------------------------------------"
      ]
    },
    {
      "cell_type": "code",
      "metadata": {
        "id": "TdErBzGzOxBl",
        "colab_type": "code",
        "colab": {}
      },
      "source": [
        "!pip install polyglot\n",
        "!pip install morfessor\n",
        "!pip install PyICU\n",
        "!pip install pycld2"
      ],
      "execution_count": 0,
      "outputs": []
    },
    {
      "cell_type": "code",
      "metadata": {
        "id": "lZQG4T7GNPTB",
        "colab_type": "code",
        "colab": {}
      },
      "source": [
        "from polyglot.transliteration import Transliterator\n",
        "from polyglot.text import Text"
      ],
      "execution_count": 0,
      "outputs": []
    },
    {
      "cell_type": "code",
      "metadata": {
        "id": "3fX3HfM8tkqn",
        "colab_type": "code",
        "colab": {}
      },
      "source": [
        "%%bash\n",
        "polyglot download transliteration2.hi"
      ],
      "execution_count": 0,
      "outputs": []
    },
    {
      "cell_type": "code",
      "metadata": {
        "id": "4HefU5wutP1P",
        "colab_type": "code",
        "colab": {}
      },
      "source": [
        "blob = \"कहाँ मिलता है कोई समझने वाला, जो भी मिलता है समझा के चला जाता है |\"\n",
        "text = Text(blob)\n",
        "x = text.transliterate(\"en\")"
      ],
      "execution_count": 0,
      "outputs": []
    },
    {
      "cell_type": "code",
      "metadata": {
        "id": "SRquxdtutl_L",
        "colab_type": "code",
        "colab": {}
      },
      "source": [
        "text_converted = ' '.join(x).lower().strip()"
      ],
      "execution_count": 0,
      "outputs": []
    },
    {
      "cell_type": "code",
      "metadata": {
        "id": "fLB2Ep8quqft",
        "colab_type": "code",
        "colab": {
          "base_uri": "https://localhost:8080/",
          "height": 34
        },
        "outputId": "a721a668-1677-466f-a262-31cb34fd4521"
      },
      "source": [
        "print(text_converted)"
      ],
      "execution_count": 27,
      "outputs": [
        {
          "output_type": "stream",
          "text": [
            "khan milta ha koi  wala  jo bhi milta ha  ke chla jata ha\n"
          ],
          "name": "stdout"
        }
      ]
    },
    {
      "cell_type": "code",
      "metadata": {
        "id": "dnjruYFcOuqk",
        "colab_type": "code",
        "colab": {}
      },
      "source": [
        "# To get list of all supported language\n",
        "\n",
        "from polyglot.downloader import downloader\n",
        "print(downloader.supported_languages_table(\"transliteration2\"))"
      ],
      "execution_count": 0,
      "outputs": []
    }
  ]
}